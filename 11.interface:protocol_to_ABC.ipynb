{
 "cells": [
  {
   "cell_type": "markdown",
   "metadata": {},
   "source": [
    "### 인터페이스와 프로토콜\n",
    "- 프로토콜이라는 개념과 인터페이스라는 개념은 동적언어와 정적언어에서 객체가 역할을 수행하는 방법에 관해 서로 약간 다르게 정의하고 구현하는 것에 차이가 있다.\n",
    "- 하지만 크게 보면 프로토콜과 인터페이스는 대동소이 하고 언어적 특성과 방향성에서 조금씩 달라진다고 보면 될 것 같다.\n",
    "- 즉, 프로토콜은 인터페이스이지만 비공식적이다.  \n",
    "- python에서는 X같은 객체, X 프로토콜, X 인터페이스 라는 말이 전부 동의어이다.\n",
    "- 사실 시퀀스가 동작하려면 \\__iter\\__()와 \\__init\\__()이 필요한데 \\__getitem__()만 구현해도 충분히 시퀀스 처럼 동작한다.\n",
    "\n",
    "### 시퀀스 처럼 동작하는 객체\n",
    "- 하지만 \\__getitem__()만 구현하면 이것은 불변 시퀀스 처럼 동작한다.\n",
    "- 가변 시퀀스 처럼 동작하게 하려면  \\__setitem__()을 구현해야 한다.\n",
    "\n",
    "### 몽키패칭 (Monkey patch)\n",
    "- 런타임에 함수를 구현해서 특별 메소드에 대입해 버리면 런타임에 동작을 변경할 수 있다.\n",
    "- 이것을 몽키패칭 이라고 한다.\n",
    "- 원래 게릴라 패치 였다가 발음이 비슷한 고릴라 패치로 바뀌고 고릴라가 험악해서 몽키패치로 바뀌었다.\n",
    "- 몽키패칭은 언발에 오줌누기 식으로 땜빵용으로 봐야할 듯 하다.\n",
    "- 코틀린과 스위프트에도 이런식으로 메소드 확장하는 방법이 있다.\n",
    "\n",
    "### ABC 상속\n",
    "- ABC란? Abstract Base Class의 줄임말로 Python에서 객체지향 인터페이스를 관리할 수 있도록 만든 메타클래스이다.\n",
    "- ABC클래스를 사용하면 python 답지 않지만 좀 더 엄격(strict)하게 메소드 오버라이딩을 강요할 수 있다.\n",
    "- ABC를 사용하는것에 대한 장점\n",
    "  - ABC를 상속받는 최상위 base class는 그 자체로 인스턴스가 될 수 없다. 아직 abstract method를 구현하지 않았기 때문이다.\n",
    "  - 기존 NotImplementedError를 발생시키는 방법은 그 메소드가 호출되었을 때만 알 수 있다. 하지만 ABC를 이용하는 경우에는 인스턴스화 시점에 바로 에러가 발생한다.\n",
    "- 기존 ABC를 제대로 사용하는 것 만으로도 엄청난 효율을 볼 수 있다.\n",
    "- 함부로 ABC를 새로 만들지 말자. 유지보수의 어려움과 잘못된 설계에서 비롯된 버그가 난무할 것이다.\n",
    "- "
   ]
  },
  {
   "cell_type": "markdown",
   "metadata": {},
   "source": [
    "### ABC 상속 및 사용하기"
   ]
  },
  {
   "cell_type": "code",
   "execution_count": 11,
   "metadata": {},
   "outputs": [],
   "source": [
    "import collections\n",
    "\n",
    "Card = collections.namedtuple('Card', ['rank', 'suit'])\n",
    "\n",
    "class FrenchDeck2(collections.MutableSequence):\n",
    "    ranks = [str(n) for n in range(2, 11)] + list('JQKA')\n",
    "    suits = 'spades diamonds clubs hearts'.split()\n",
    "\n",
    "    def __init__(self):\n",
    "        self._cards = [Card(rank, suit) for suit in self.suits\n",
    "                                        for rank in self.ranks]\n",
    "\n",
    "    def __len__(self):\n",
    "        return len(self._cards)\n",
    "\n",
    "    def __getitem__(self, position):\n",
    "        return self._cards[position]\n",
    "\n",
    "    def __setitem__(self, position, value):  \n",
    "        self._cards[position] = value\n",
    "\n",
    "    def __delitem__(self, position):  \n",
    "        del self._cards[position]\n",
    "\n",
    "    def insert(self, position, value):  \n",
    "        self._cards.insert(position, value)"
   ]
  },
  {
   "cell_type": "code",
   "execution_count": 12,
   "metadata": {},
   "outputs": [],
   "source": [
    "deck = FrenchDeck2()"
   ]
  },
  {
   "cell_type": "markdown",
   "metadata": {},
   "source": [
    "- 가정 상황\n",
    "> 웹사이트나 모바일 앱세서 광고를 무작위 순으로 보여주어야 하지만, 광고 목록에 들어 있는 광고를 모두 보여주기 전까지는 같은 광고를 반복하면 안 된다."
   ]
  },
  {
   "cell_type": "code",
   "execution_count": 8,
   "metadata": {},
   "outputs": [],
   "source": [
    "import abc\n",
    "\n",
    "class Tombola(abc.ABC):\n",
    "    @abc.abstractmethod\n",
    "    def load(self, iterable):\n",
    "        \" 아이템을 컨테이너 안에 넣는다\"\n",
    "\n",
    "    @abc.abstractmethod\n",
    "    def pick(self):\n",
    "        \"컨테이너 안에서 무작위로 아이템 하나를 꺼내서 반환한다\"\n",
    "\n",
    "    def loaded(self):\n",
    "        \"컨테이너 안에 아이템이 하나 이상 들어 있으면 True를 반환한다\"\n",
    "        return bool(self.inspect())\n",
    "\n",
    "    def inspect(self):\n",
    "        \"\"\"\n",
    "        내용물을 변경하지 않고 컨테이너 \n",
    "        안에 들어 있는 항목으로 부터 \n",
    "        만든 정렬된 튜플을 반환한다\n",
    "        \"\"\"\n",
    "        items = []\n",
    "        while True:\n",
    "            try:\n",
    "                items.append(self.pick())\n",
    "            except LookupError:\n",
    "                break\n",
    "        self.load(items)\n",
    "        return tuple(sorted(items))"
   ]
  },
  {
   "cell_type": "code",
   "execution_count": 10,
   "metadata": {},
   "outputs": [
    {
     "ename": "TypeError",
     "evalue": "Can't instantiate abstract class Fake with abstract methods load",
     "output_type": "error",
     "traceback": [
      "\u001b[0;31m---------------------------------------------------------------------------\u001b[0m",
      "\u001b[0;31mTypeError\u001b[0m                                 Traceback (most recent call last)",
      "\u001b[1;32m/home/jyji/devleop/fluent_python/11.interface:protocol_to_ABC.ipynb Cell 7\u001b[0m in \u001b[0;36m<cell line: 5>\u001b[0;34m()\u001b[0m\n\u001b[1;32m      <a href='vscode-notebook-cell://ssh-remote%2Borange/home/jyji/devleop/fluent_python/11.interface%3Aprotocol_to_ABC.ipynb#X13sdnNjb2RlLXJlbW90ZQ%3D%3D?line=1'>2</a>\u001b[0m     \u001b[39mdef\u001b[39;00m \u001b[39mpick\u001b[39m(\u001b[39mself\u001b[39m):\n\u001b[1;32m      <a href='vscode-notebook-cell://ssh-remote%2Borange/home/jyji/devleop/fluent_python/11.interface%3Aprotocol_to_ABC.ipynb#X13sdnNjb2RlLXJlbW90ZQ%3D%3D?line=2'>3</a>\u001b[0m         \u001b[39mreturn\u001b[39;00m \u001b[39m13\u001b[39m\n\u001b[0;32m----> <a href='vscode-notebook-cell://ssh-remote%2Borange/home/jyji/devleop/fluent_python/11.interface%3Aprotocol_to_ABC.ipynb#X13sdnNjb2RlLXJlbW90ZQ%3D%3D?line=4'>5</a>\u001b[0m f \u001b[39m=\u001b[39m Fake()\n",
      "\u001b[0;31mTypeError\u001b[0m: Can't instantiate abstract class Fake with abstract methods load"
     ]
    }
   ],
   "source": [
    "class Fake(Tombola):\n",
    "    def pick(self):\n",
    "        return 13\n",
    "\n",
    "f = Fake()"
   ]
  },
  {
   "cell_type": "code",
   "execution_count": 11,
   "metadata": {},
   "outputs": [
    {
     "ename": "TypeError",
     "evalue": "Can't instantiate abstract class Tombola with abstract methods load, pick",
     "output_type": "error",
     "traceback": [
      "\u001b[0;31m---------------------------------------------------------------------------\u001b[0m",
      "\u001b[0;31mTypeError\u001b[0m                                 Traceback (most recent call last)",
      "\u001b[1;32m/home/jyji/devleop/fluent_python/11.interface:protocol_to_ABC.ipynb Cell 8\u001b[0m in \u001b[0;36m<cell line: 1>\u001b[0;34m()\u001b[0m\n\u001b[0;32m----> <a href='vscode-notebook-cell://ssh-remote%2Borange/home/jyji/devleop/fluent_python/11.interface%3Aprotocol_to_ABC.ipynb#X14sdnNjb2RlLXJlbW90ZQ%3D%3D?line=0'>1</a>\u001b[0m t \u001b[39m=\u001b[39m Tombola()\n",
      "\u001b[0;31mTypeError\u001b[0m: Can't instantiate abstract class Tombola with abstract methods load, pick"
     ]
    }
   ],
   "source": [
    "t = Tombola()"
   ]
  },
  {
   "cell_type": "markdown",
   "metadata": {},
   "source": [
    "다른 데코레이터와 같이 쌓을 수 있지만 abstractmethod가 항상 제일 안쪽에 있어야 한다. 즉 def와 abstractmethod 사이에 아무것도 올 수 없다!!!!!!"
   ]
  },
  {
   "cell_type": "code",
   "execution_count": null,
   "metadata": {},
   "outputs": [],
   "source": [
    "class MyABC(abc.ABC):\n",
    "    @classmethod\n",
    "    @abc.abstractmethod\n",
    "    def func1(cls, ...):\n",
    "        pass"
   ]
  },
  {
   "cell_type": "code",
   "execution_count": null,
   "metadata": {},
   "outputs": [],
   "source": [
    "import random\n",
    "\n",
    "class BingoCage(Tombola): \n",
    "\n",
    "    def __init__(self, items):\n",
    "        self._randomizer = random.SystemRandom()  \n",
    "        self._items = []\n",
    "        self.load(items)  \n",
    "\n",
    "    def load(self, items):\n",
    "        self._items.extend(items)\n",
    "        self._randomizer.shuffle(self._items)  \n",
    "\n",
    "    def pick(self):  \n",
    "        try:\n",
    "            return self._items.pop()\n",
    "        except IndexError:\n",
    "            raise LookupError('pick from empty BingoCage')\n",
    "\n",
    "    def __call__(self):  \n",
    "        self.pick()\n",
    "\n",
    "\n",
    "class LotteryBlower(Tombola):\n",
    "\n",
    "    def __init__(self, iterable):\n",
    "        self._balls = list(iterable)  \n",
    "\n",
    "    def load(self, iterable):\n",
    "        self._balls.extend(iterable)\n",
    "\n",
    "    def pick(self):\n",
    "        try:\n",
    "            position = random.randrange(len(self._balls))  \n",
    "        except ValueError:\n",
    "            raise LookupError('pick from empty LotteryBlower')\n",
    "        return self._balls.pop(position)  \n",
    "\n",
    "    def loaded(self):  \n",
    "        return bool(self._balls)\n",
    "\n",
    "    def inspect(self):  \n",
    "        return tuple(sorted(self._balls))"
   ]
  },
  {
   "cell_type": "markdown",
   "metadata": {},
   "source": [
    "register 사용법"
   ]
  },
  {
   "cell_type": "markdown",
   "metadata": {},
   "source": []
  },
  {
   "cell_type": "code",
   "execution_count": 12,
   "metadata": {},
   "outputs": [
    {
     "data": {
      "text/plain": [
       "__main__.TomboList"
      ]
     },
     "execution_count": 12,
     "metadata": {},
     "output_type": "execute_result"
    }
   ],
   "source": [
    "from random import randrange\n",
    "\n",
    "\n",
    "@Tombola.register  \n",
    "class TomboList(list):  \n",
    "\n",
    "    def pick(self):\n",
    "        if self:  \n",
    "            position = randrange(len(self))\n",
    "            return self.pop(position)  \n",
    "        else:\n",
    "            raise LookupError('pop from empty TomboList')\n",
    "\n",
    "    load = list.extend  \n",
    "\n",
    "    def loaded(self):\n",
    "        return bool(self)  \n",
    "\n",
    "    def inspect(self):\n",
    "        return tuple(sorted(self))\n",
    "\n",
    "Tombola.register(TomboList)"
   ]
  },
  {
   "cell_type": "code",
   "execution_count": 14,
   "metadata": {},
   "outputs": [
    {
     "data": {
      "text/plain": [
       "[__main__.Fake, __main__.Fake]"
      ]
     },
     "execution_count": 14,
     "metadata": {},
     "output_type": "execute_result"
    }
   ],
   "source": [
    "Tombola.__subclasses__()"
   ]
  },
  {
   "cell_type": "markdown",
   "metadata": {},
   "source": [
    "### subclasshook 특별 메서드\n",
    "- subclasshook 특별 메서드는 해당 객체의 상속 여부 및 특별 메소드의 구현 여부 까지 융통성 있게 검사한다"
   ]
  },
  {
   "cell_type": "code",
   "execution_count": null,
   "metadata": {},
   "outputs": [],
   "source": [
    "class Struggle:\n",
    "    def __len__(self):\n",
    "        return 23\n",
    "\n",
    "from collections import abc\n",
    "isinstance(Struggle(), abc.Sized)"
   ]
  },
  {
   "cell_type": "code",
   "execution_count": null,
   "metadata": {},
   "outputs": [],
   "source": [
    "from abc import ABCMeta, abstractmethod\n",
    "\n",
    "class Sized(metaclasss=ABCMeta):\n",
    "    __slots__ = ()\n",
    "    \n",
    "    @abstractmethod\n",
    "    def __len__(self):\n",
    "        return 0\n",
    "    \n",
    "    @classmethod\n",
    "    def __subclasshook__(cls, C):\n",
    "        if cls is Sized:\n",
    "            if any(\"__len__\" in B.__dict__ for B in C.__mro__):\n",
    "                return True\n",
    "        return NotImplementedError"
   ]
  },
  {
   "cell_type": "markdown",
   "metadata": {},
   "source": [
    "- ABC를 배웠다면 모든곳에 ABC를 써먹고 싶겠지만 ABC를 사용하기 전에 먼저 덕파이핑으로 문제를 해결해 보는것이 먼저다.\n",
    "- 먼저 파이썬의 융통성을 받아들여야 한다."
   ]
  },
  {
   "cell_type": "markdown",
   "metadata": {},
   "source": []
  }
 ],
 "metadata": {
  "kernelspec": {
   "display_name": "Python 3.8.12 ('mytorch')",
   "language": "python",
   "name": "python3"
  },
  "language_info": {
   "codemirror_mode": {
    "name": "ipython",
    "version": 3
   },
   "file_extension": ".py",
   "mimetype": "text/x-python",
   "name": "python",
   "nbconvert_exporter": "python",
   "pygments_lexer": "ipython3",
   "version": "3.8.12"
  },
  "orig_nbformat": 4,
  "vscode": {
   "interpreter": {
    "hash": "b4a27c98caeaa5630be10b8d406a4608184d11e4add7ee29d27ce8c7f4d0bc9a"
   }
  }
 },
 "nbformat": 4,
 "nbformat_minor": 2
}
